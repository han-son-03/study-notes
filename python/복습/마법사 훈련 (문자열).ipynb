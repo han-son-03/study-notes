{
 "cells": [
  {
   "cell_type": "markdown",
   "metadata": {
    "id": "-hKyxqyjnP29"
   },
   "source": [
    "# 🧙‍♂️ **마법사 모험: 문자열 훈련**\n",
    "### 당신은 마법사 학교를 졸업하고 마법사 탐험대에 합류했습니다. 다양한 미션을 수행하며 **자료형**을 다루는 능력을 연습해야 합니다.\n",
    "###문제를 풀며 모험을 완수하세요!"
   ]
  },
  {
   "cell_type": "markdown",
   "metadata": {
    "id": "HELe4Ca9njzP"
   },
   "source": [
    "# 🪄 문자열 훈련"
   ]
  },
  {
   "cell_type": "markdown",
   "metadata": {
    "id": "2Wzda0ffnz5Y"
   },
   "source": [
    "## [문제 1] 마법 주문의 길이 계산\n",
    "### 마법 주문 `\"Wingardium Legiosa!\"` 의 길이를 계산하세요."
   ]
  },
  {
   "cell_type": "code",
   "execution_count": 1,
   "metadata": {
    "id": "_mYzdyH4oBhA"
   },
   "outputs": [
    {
     "name": "stdout",
     "output_type": "stream",
     "text": [
      "19\n"
     ]
    }
   ],
   "source": [
    "마법의_주문 = \"Wingardium Legiosa!\"\n",
    "길이 = len(마법의_주문)\n",
    "print(길이)"
   ]
  },
  {
   "cell_type": "markdown",
   "metadata": {
    "id": "P_smdWwgn_uW"
   },
   "source": [
    "## [문제 2] 문자열 슬라이싱\n",
    "### `\"Expecto Patronum!\"` 에서 `\"Patronum\"`만 추출하세요."
   ]
  },
  {
   "cell_type": "code",
   "execution_count": null,
   "metadata": {
    "id": "20NlLqLjoNL3"
   },
   "outputs": [],
   "source": []
  },
  {
   "cell_type": "markdown",
   "metadata": {
    "id": "H2CHn5pQn__g"
   },
   "source": [
    "## [문제 3] 문자열 대소문자 변환\n",
    "### 마법 주문 `\"Lumos\" 를 모두 대문자로 변환하세요."
   ]
  },
  {
   "cell_type": "code",
   "execution_count": null,
   "metadata": {
    "id": "5QLMl1b3oTc5"
   },
   "outputs": [],
   "source": []
  },
  {
   "cell_type": "markdown",
   "metadata": {
    "id": "0GrzhlSBoADc"
   },
   "source": [
    "## [문제 4] 문자 포함 여부 확인\n",
    "### `\"Avada Kedavra!\"` 에 \"d\" 문자가 포함되어있는지 확인하세요."
   ]
  },
  {
   "cell_type": "code",
   "execution_count": null,
   "metadata": {
    "id": "DapwxriCoc6n"
   },
   "outputs": [],
   "source": []
  },
  {
   "cell_type": "markdown",
   "metadata": {
    "id": "0T_pYT9ToAHI"
   },
   "source": [
    "## [문제 5] 문자열 반복\n",
    "### `\"Alohomora\"`를 3번 반복해 출력하세요."
   ]
  },
  {
   "cell_type": "code",
   "execution_count": null,
   "metadata": {
    "id": "00JAi5Zdoiyo"
   },
   "outputs": [],
   "source": []
  },
  {
   "cell_type": "markdown",
   "metadata": {
    "id": "Q_FuuuwQoAKc"
   },
   "source": [
    "## [문제 6] 문자열 찾기\n",
    "### `\"Expelliarmus!\"`에 \"lli\" 가 포함되어있는지 확인하세요."
   ]
  },
  {
   "cell_type": "code",
   "execution_count": null,
   "metadata": {
    "id": "P0qEyOP-pA5f"
   },
   "outputs": [],
   "source": []
  },
  {
   "cell_type": "markdown",
   "metadata": {
    "id": "PJbaq8n1oANw"
   },
   "source": [
    "## [문제 7] 첫 글자 확인\n",
    "### `\"Protege\"` 가 \"P\" 로 시작하는지 확인하세요."
   ]
  },
  {
   "cell_type": "code",
   "execution_count": null,
   "metadata": {
    "id": "v1zxCLKfpGbn"
   },
   "outputs": [],
   "source": []
  },
  {
   "cell_type": "markdown",
   "metadata": {
    "id": "C441ngAUoAQx"
   },
   "source": [
    "## [문제 8] 마지막 글자 변경\n",
    "### `\"Lumos\"`의 마지막 글자를 \"z\"로 바꾼 문자열을 출력하세요."
   ]
  },
  {
   "cell_type": "code",
   "execution_count": null,
   "metadata": {
    "id": "4z7-CrJapNGs"
   },
   "outputs": [],
   "source": []
  },
  {
   "cell_type": "markdown",
   "metadata": {
    "id": "hxg8lUKNoAUJ"
   },
   "source": [
    "## [문제 9] 주문 조합\n",
    "### `\"Wingardium\"` 과 `\"Leviosa\"`를 결합하여 하나의 문자열로 만드세요."
   ]
  },
  {
   "cell_type": "code",
   "execution_count": null,
   "metadata": {
    "id": "VkvlF5SapUcN"
   },
   "outputs": [],
   "source": []
  },
  {
   "cell_type": "markdown",
   "metadata": {
    "id": "Jf-vswD1oAXX"
   },
   "source": [
    "## [문제 10] 마법 주문 뒤집기\n",
    "### `\"Expelliarmus!\"`를 뒤집어 출력하세요."
   ]
  },
  {
   "cell_type": "code",
   "execution_count": null,
   "metadata": {
    "id": "9ndS5KiApf6D"
   },
   "outputs": [],
   "source": []
  },
  {
   "cell_type": "markdown",
   "metadata": {
    "id": "Ae2S6qsroAaj"
   },
   "source": [
    "## [문제 11] 문자열 공백 제거\n",
    "### `\"Protego\"`의 공백을 제거하세요."
   ]
  },
  {
   "cell_type": "code",
   "execution_count": null,
   "metadata": {
    "id": "RO_Bwqi0pqn-"
   },
   "outputs": [],
   "source": []
  },
  {
   "cell_type": "markdown",
   "metadata": {
    "id": "nYHf_032po9d"
   },
   "source": [
    "## [문제 12] 문자열 분리\n",
    "### `\"Obliviate,Legilimens,Lumos\"`를 \",\"를 기준으로 나누세요."
   ]
  },
  {
   "cell_type": "code",
   "execution_count": null,
   "metadata": {
    "id": "CFdOkqKypxvC"
   },
   "outputs": [],
   "source": []
  },
  {
   "cell_type": "markdown",
   "metadata": {
    "id": "zRl72kMfppmT"
   },
   "source": [
    "## [문제 13] 문자열 결합\n",
    "### `\"Obliviate\", \"Legilimens\", \"Lumos\"`를 \", \"로 연결해 출력하세요"
   ]
  },
  {
   "cell_type": "code",
   "execution_count": null,
   "metadata": {
    "id": "3tgWalESp8gH"
   },
   "outputs": [],
   "source": []
  },
  {
   "cell_type": "markdown",
   "metadata": {
    "id": "xjEMNjmypppp"
   },
   "source": [
    "## [문제 14] 특정 문자 개수 세기\n",
    "### `\"Wingardium Leviosa!\"`에서 \"a\"의 개수를 세세요"
   ]
  },
  {
   "cell_type": "code",
   "execution_count": null,
   "metadata": {
    "id": "rKEhMrzNqDU3"
   },
   "outputs": [],
   "source": []
  },
  {
   "cell_type": "markdown",
   "metadata": {
    "id": "_Khar5hWppsl"
   },
   "source": [
    "## [문제 15] 주문 빈도 확인\n",
    "### `\"Alohomora\"`에서 \"o\"가 몇 번 나오는지 세세요.\n"
   ]
  },
  {
   "cell_type": "code",
   "execution_count": null,
   "metadata": {
    "id": "ux9mR1uqqK8m"
   },
   "outputs": [],
   "source": []
  },
  {
   "cell_type": "markdown",
   "metadata": {
    "id": "qHhc7Q75ppvj"
   },
   "source": [
    "## [문제 16] 문자열 정렬\n",
    "### `\"Wingardium\"`의 알파벳 순 정렬된 문자열을 출력하세요.\n"
   ]
  },
  {
   "cell_type": "code",
   "execution_count": null,
   "metadata": {
    "id": "XFyY3Gviq8Hy"
   },
   "outputs": [],
   "source": []
  },
  {
   "cell_type": "markdown",
   "metadata": {
    "id": "zHlQAfWOppys"
   },
   "source": [
    "## [문제 17] 중간 글자 출력\n",
    "### `\"Expelliarmus!\"`의 가운데 글자를 출력하세요."
   ]
  },
  {
   "cell_type": "code",
   "execution_count": null,
   "metadata": {
    "id": "g7A7gkVsrDGq"
   },
   "outputs": [],
   "source": []
  },
  {
   "cell_type": "markdown",
   "metadata": {
    "id": "GX957sq-pp1U"
   },
   "source": [
    "## [문제 18] 문자열 대체\n",
    "### `\"Lumos Maxima!\"`에서 \"Lumos\"를 \"Nox\"로 바꾼 문자열을 출력하세요."
   ]
  },
  {
   "cell_type": "code",
   "execution_count": null,
   "metadata": {
    "id": "t448w8iIrIqY"
   },
   "outputs": [],
   "source": []
  },
  {
   "cell_type": "markdown",
   "metadata": {
    "id": "cTGxAjappp4K"
   },
   "source": [
    "## [문제 19] 문자열 나누기와 결합\n",
    "### `\"Obliviate Lumos Nox\"`를 \" \" 기준으로 나눈 뒤, 다시 \"-\"로 연결하세요."
   ]
  },
  {
   "cell_type": "code",
   "execution_count": null,
   "metadata": {
    "id": "W3gw9-x_rOYA"
   },
   "outputs": [],
   "source": []
  },
  {
   "cell_type": "markdown",
   "metadata": {
    "id": "hKkEeNUIpp60"
   },
   "source": [
    "## [문제 20] 주문 압축 저장\n",
    "### 공백으로 구분되어있는 `\"Expelliarmus! Expelliarmus!\"`를 압축해 \"Expelliarmus!(x2)\"로 표현하세요."
   ]
  },
  {
   "cell_type": "code",
   "execution_count": null,
   "metadata": {
    "id": "zyy3vNqVrgoh"
   },
   "outputs": [],
   "source": []
  },
  {
   "cell_type": "markdown",
   "metadata": {
    "id": "7lIwYrNGpp9r"
   },
   "source": [
    "## [문제 21] 문자열에서 특정 단어 찾기\n",
    "### `\"Wingardium Leviosa Leviosa\"`에서 \"Leviosa\"가 몇 번째 위치에 나타나는지 모두 출력하세요."
   ]
  },
  {
   "cell_type": "code",
   "execution_count": null,
   "metadata": {
    "id": "XNfAJHtfsBCw"
   },
   "outputs": [],
   "source": []
  },
  {
   "cell_type": "markdown",
   "metadata": {
    "id": "Pyf96Smor9fR"
   },
   "source": [
    "## [문제 22] 문자열 규칙 확인\n",
    "### `\"1234-5678\"`이 숫자와 \"-\"로 이루어져있는지 확인하세요."
   ]
  },
  {
   "cell_type": "code",
   "execution_count": null,
   "metadata": {
    "id": "tScY5kI7sJLm"
   },
   "outputs": [],
   "source": []
  },
  {
   "cell_type": "markdown",
   "metadata": {
    "id": "KEKgOTUGr9oA"
   },
   "source": [
    "## [문제 23] 문자열 내 단어 길이 분석\n",
    "### `\"Lumos Maxima Obliviate\"`의 각 단어 길이를 딕셔너리로 출력하세요."
   ]
  },
  {
   "cell_type": "code",
   "execution_count": null,
   "metadata": {
    "id": "CkdkbVEOsN_a"
   },
   "outputs": [],
   "source": []
  },
  {
   "cell_type": "markdown",
   "metadata": {
    "id": "UnnPYH_nr9uA"
   },
   "source": [
    "## [문제 24] 문자열에서 특정 단어 찾기\n",
    "### `\"Lumos\"`와 `\"Maxima\"`를 교차해 \"LMuaoxsima\"로 조합하세요."
   ]
  },
  {
   "cell_type": "code",
   "execution_count": null,
   "metadata": {
    "id": "dW2jCM09sehw"
   },
   "outputs": [],
   "source": []
  },
  {
   "cell_type": "markdown",
   "metadata": {
    "id": "3nqFRP55r9ww"
   },
   "source": [
    "## [문제 25] 문자열 압축\n",
    "### `\"aaabbbccc\"`를 \"a3b3c3\" 형식으로 압축하세요."
   ]
  },
  {
   "cell_type": "code",
   "execution_count": null,
   "metadata": {
    "id": "QeaJa0YKstlC"
   },
   "outputs": [],
   "source": []
  },
  {
   "cell_type": "markdown",
   "metadata": {
    "id": "BLZFhvoOr90o"
   },
   "source": [
    "## [문제 26] 첫 글자 대문자 변환\n",
    "### `\"accio lumos\"`의 각 단어의 첫 글자를 대문자로 변환하세요."
   ]
  },
  {
   "cell_type": "code",
   "execution_count": null,
   "metadata": {
    "id": "LOU-a1slsy_9"
   },
   "outputs": [],
   "source": []
  },
  {
   "cell_type": "markdown",
   "metadata": {
    "id": "-mYdOVY_r931"
   },
   "source": [
    "## [문제 27] 중복 문자 제거\n",
    "### `\"magic spells\"`에서 중복된 문자를 제거하여 출력하세요."
   ]
  },
  {
   "cell_type": "code",
   "execution_count": null,
   "metadata": {
    "id": "NJVuMGI6s4h0"
   },
   "outputs": [],
   "source": []
  },
  {
   "cell_type": "markdown",
   "metadata": {
    "id": "im30HI65r96-"
   },
   "source": [
    "## [문제 28] 문자열 빈도 분석\n",
    "### `\"hogwarts\"`에서 각 문자의 빈도를 출력하세요."
   ]
  },
  {
   "cell_type": "code",
   "execution_count": null,
   "metadata": {
    "id": "TYmSSLj_xX0M"
   },
   "outputs": [],
   "source": []
  }
 ],
 "metadata": {
  "colab": {
   "authorship_tag": "ABX9TyPytH6C2aQCTybZafRwq+9Y",
   "provenance": []
  },
  "kernelspec": {
   "display_name": "Python 3",
   "name": "python3"
  },
  "language_info": {
   "codemirror_mode": {
    "name": "ipython",
    "version": 3
   },
   "file_extension": ".py",
   "mimetype": "text/x-python",
   "name": "python",
   "nbconvert_exporter": "python",
   "pygments_lexer": "ipython3",
   "version": "3.13.5"
  }
 },
 "nbformat": 4,
 "nbformat_minor": 0
}
